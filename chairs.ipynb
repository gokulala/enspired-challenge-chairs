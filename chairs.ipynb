{
 "cells": [
  {
   "cell_type": "code",
   "execution_count": null,
   "id": "85f03295-ff3c-407f-950c-91ec39c04aef",
   "metadata": {},
   "outputs": [],
   "source": []
  },
  {
   "cell_type": "code",
   "execution_count": null,
   "id": "6396c179-45ec-4b57-a7c2-58265759e10e",
   "metadata": {},
   "outputs": [],
   "source": []
  },
  {
   "cell_type": "code",
   "execution_count": 1,
   "id": "f28da560-880f-4d7b-85ab-b30296c7c1bb",
   "metadata": {},
   "outputs": [],
   "source": [
    "file = \"apartment_plans/rooms.txt\""
   ]
  },
  {
   "cell_type": "code",
   "execution_count": 6,
   "id": "0923d14c-2a86-4e7f-afe1-01e2b516ff18",
   "metadata": {},
   "outputs": [
    {
     "name": "stdout",
     "output_type": "stream",
     "text": [
      "\n",
      "\n",
      "balcony:\n",
      "  P: 2,  W: 0,  S: 0,  C: 0,\n",
      "\n",
      "bathroom:\n",
      "  P: 1,  W: 0,  S: 0,  C: 0,\n",
      "\n",
      "closet:\n",
      "  P: 3,  W: 0,  S: 0,  C: 0,\n",
      "\n",
      "kitchen:\n",
      "  P: 0,  W: 4,  S: 0,  C: 0,\n",
      "\n",
      "living room:\n",
      "  P: 0,  W: 7,  S: 2,  C: 0,\n",
      "\n",
      "office:\n",
      "  P: 1,  W: 2,  S: 0,  C: 0,\n",
      "\n",
      "sleeping room:\n",
      "  P: 0,  W: 1,  S: 1,  C: 0,\n",
      "\n",
      "toilet:\n",
      "  P: 0,  W: 0,  S: 0,  C: 1,\n",
      "\n",
      "total_count:\n",
      "  P: 7,  W: 14,  S: 3,  C: 1,"
     ]
    }
   ],
   "source": []
  },
  {
   "cell_type": "code",
   "execution_count": null,
   "id": "cc9c5625-0689-4fec-9b28-76765f0aced7",
   "metadata": {},
   "outputs": [],
   "source": []
  },
  {
   "cell_type": "code",
   "execution_count": null,
   "id": "318ad5fe-f957-4ee8-8f8a-d353b58fca1e",
   "metadata": {},
   "outputs": [],
   "source": []
  }
 ],
 "metadata": {
  "kernelspec": {
   "display_name": "Python 3 (ipykernel)",
   "language": "python",
   "name": "python3"
  },
  "language_info": {
   "codemirror_mode": {
    "name": "ipython",
    "version": 3
   },
   "file_extension": ".py",
   "mimetype": "text/x-python",
   "name": "python",
   "nbconvert_exporter": "python",
   "pygments_lexer": "ipython3",
   "version": "3.12.3"
  }
 },
 "nbformat": 4,
 "nbformat_minor": 5
}
